{
 "cells": [
  {
   "cell_type": "markdown",
   "metadata": {},
   "source": [
    "# Preventing Starvation in Shortest Job First Scheduling Algorithm: An Applied Study on Starvation Free SJF Implementation\n",
    "\n",
    "**Author(s)**  \n",
    "Enden, L. van den  \n",
    "[453142@student.fontys.com](mailto:453142@student.fontys.com)  \n",
    "\n",
    "**Course/Institution Name**  \n",
    "AP-STATS  \n",
    "Fontys University of Applied Sciences  \n",
    "\n",
    "**Date**  \n",
    "TODO: add date\n",
    "\n",
    "<!-- Feedback hans week 1 on ideation:\n",
    "Kun je SJF in een gegeven OS implementatie uitpleizen en emuleren in haalbare tijd?\n",
    "\n",
    "Doe even vooronderzoek of het haalbaar is dat je SJF van een gegeven linux distro onderzoekt en vervolgens emuleert. Dit geef ik als feedback omdat SJF simpel klinkt maar mogelijk is de implementatie 10000 regels code. Als dat zo is, is het niet haalbaar om dit in de gegeven tijd te doen.\n",
    "\n",
    "Mogelijk dat je arduino OS SJF implementatie pakt, die zijn waarschijnlijk kleiner.\n",
    "\n",
    "---\n",
    "Een vereiste is dat je academische bronnen gebruikt en in academische style bron vermelding doet.\n",
    "\n",
    "-->"
   ]
  },
  {
   "cell_type": "code",
   "execution_count": 1,
   "metadata": {},
   "outputs": [
    {
     "data": {
      "text/plain": [
       "'preventing_starvation_in_shortest_job_first_scheduling_algorithm'"
      ]
     },
     "execution_count": 1,
     "metadata": {},
     "output_type": "execute_result"
    }
   ],
   "source": [
    "\"Preventing Starvation in Shortest Job First Scheduling Algorithm\".lower().replace(\" \", \"_\")"
   ]
  },
  {
   "cell_type": "markdown",
   "metadata": {},
   "source": [
    "SEE COMMENT FOR PLANNING:\n",
    "\n",
    "<!-- \n",
    "\n",
    "Week 1: ideation\n",
    "Week 2: Gathering sources on: SJF definition and history, SJF advantages / disatvanteges, SJF example implementation, job starvation, job starvation prevention methods, pro's and con's on prevention methods\n",
    "Week 3: Implementing the SJF algorithm in Python\n",
    "Week 4: Implementing the SJF algorithm in Python\n",
    "Week 5: Finalizing the research\n",
    " -->"
   ]
  },
  {
   "cell_type": "markdown",
   "metadata": {},
   "source": [
    "## The Research Goal\n",
    "I want to research how the smallest job first (SJF) scheduling algorithm can be expanded upon such that longer jobs will still be able to complete, regardless of how many other smaller jobs are in the queue.\n",
    "\n",
    "In other words: \n",
    "> How can one create a starvation free implementation of the Smallest Job First (SJF) scheduling algorithm?\n",
    "\n",
    "### My Reasoning Behind The Goal\n",
    "\n",
    "Before starting this class, I explored a similar issue on a hobby level, designing a fairness-oriented queue for a supermarket scenario. In that work, I used basket size as a metric to determine queue priority, balancing efficiency with fairness. Then, a few years later in my SYNC class, I came across the SJF algorithm in a introduciton presentation, where we discussed the issue of job starvation in this particulair scheduling algorithm. \n",
    "\n",
    "My goal is to address the challenge of starvation in SJF by adapting it to ensure that longer jobs also have the opportunity to complete.\n",
    "\n",
    "### Derived Research Questions\n",
    "\n",
    "The main research question is already described at the bottom of the research goal (just above). However, to make the research more structured, I will break it down into smaller questions:\n",
    "1. What is the Smallest Job First (SJF) scheduling algorithm?\n",
    "    1. When was it first introduced?\n",
    "    2. Why was it introduced?\n",
    "    3. How does it work?\n",
    "    4. What are some of SJF's advantages and disadvantages?\n",
    "    5. Is their an example of a real-world implementation of SJF (preferably described in pseudo code)?\n",
    "2. What is job starvation in the context of multi-tasking systems?\n",
    "    1. Why is job starvation a problem?\n",
    "    2. What are some of the ways to address job starvation?\n",
    "    3. What are the advantages and disadvantages of these solutions?\n",
    "3. How can the SJF algorithm be adapted to prevent job starvation?"
   ]
  },
  {
   "cell_type": "markdown",
   "metadata": {},
   "source": [
    "## Aproach\n",
    "\n",
    "To achieve this goal, I’ll begin with document analysis and a literature study on SJF scheduling, gathering definitions, principles, and an example implementation (ideally in pseudocode) to establish a foundational understanding. Next, I will conduct further literature, library, and design pattern research to investigate starvation—specifically, what causes it in scheduling algorithms and how it can be prevented.\n",
    "\n",
    "Finally, using the DOT framework pattern Realise as Expert and its associated methods, I will create a proof of concept for a starvation-free SJF algorithm. This iterative approach will help me integrate the theoretical and practical aspects necessary to design an SJF implementation that ensures all job types have an opportunity to complete."
   ]
  },
  {
   "cell_type": "markdown",
   "metadata": {},
   "source": [
    "## On Source Collection\n",
    "\n",
    "I will start my source collection using Perplexity AI as an initial tool for gathering relevant documents and insights on SJF scheduling and starvation. From there, I will continue with a targeted search on Google Scholar to deepen my findings, focusing on academic sources that provide detailed explanations, definitions, and examples to support each step of my research."
   ]
  },
  {
   "cell_type": "markdown",
   "metadata": {},
   "source": [
    "## Deliverables\n",
    "\n",
    "The deliverables for this research project are as follows:\n",
    "- This research paper, documenting the study and findings on preventing starvation in the SJF scheduling algorithm.\n",
    "- A text file (TXT) containing pseudocode for a starvation-free SJF algorithm.\n",
    "- An implementation of the pseudocode in Python.\n",
    "- Test cases for validating the implementation.\n",
    "    - Thread outputs will be saved in a timeline format to support visualization purposes."
   ]
  },
  {
   "cell_type": "markdown",
   "metadata": {},
   "source": [
    "## Sources\n",
    "\n",
    "https://chatgpt.com/share/67222564-ad8c-800e-87ef-8f8e25edd98f"
   ]
  }
 ],
 "metadata": {
  "kernelspec": {
   "display_name": "SYNC",
   "language": "python",
   "name": "python3"
  },
  "language_info": {
   "codemirror_mode": {
    "name": "ipython",
    "version": 3
   },
   "file_extension": ".py",
   "mimetype": "text/x-python",
   "name": "python",
   "nbconvert_exporter": "python",
   "pygments_lexer": "ipython3",
   "version": "3.13.0"
  }
 },
 "nbformat": 4,
 "nbformat_minor": 2
}
