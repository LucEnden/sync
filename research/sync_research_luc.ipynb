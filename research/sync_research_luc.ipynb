{
 "cells": [
  {
   "cell_type": "markdown",
   "metadata": {},
   "source": [
    "# Sync Research - Luc\n",
    "\n",
    "## Ideation\n",
    "I want to research how the smallest job first (SJF) scheduling algorithm can be expanded upon such that longer jobs will still be able to complete, regardless of how many other smaller jobs are in the queue.\n",
    "\n",
    "<!-- Feedback hans\n",
    "Kun je SJF in een gegeven OS implementatie uitpleizen en emuleren in haalbare tijd?\n",
    "\n",
    "Doe even vooronderzoek of het haalbaar is dat je SJF van een gegeven linux distro onderzoekt en vervolgens emuleert. Dit geef ik als feedback omdat SJF simpel klinkt maar mogelijk is de implementatie 10000 regels code. Als dat zo is, is het niet haalbaar om dit in de gegeven tijd te doen.\n",
    "\n",
    "Mogelijk dat je arduino OS SJF implementatie pakt, die zijn waarschijnlijk kleiner.\n",
    "\n",
    "---\n",
    "Een vereiste is dat je academische bronnen gebruikt en in academische style bron vermelding doet.\n",
    "\n",
    "-->\n",
    "\n",
    "## Goal\n",
    "...\n",
    "\n",
    "## Questions\n",
    "..."
   ]
  }
 ],
 "metadata": {
  "language_info": {
   "name": "python"
  }
 },
 "nbformat": 4,
 "nbformat_minor": 2
}
