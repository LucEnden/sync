{
 "cells": [
  {
   "cell_type": "code",
   "execution_count": 2,
   "id": "911b0042",
   "metadata": {},
   "outputs": [
    {
     "data": {
      "text/plain": [
       "[True, True, True, False]"
      ]
     },
     "execution_count": 2,
     "metadata": {},
     "output_type": "execute_result"
    }
   ],
   "source": [
    "baton = [ 0, 0, 0, 1 ]\n",
    "\n",
    "[ not s for s in baton ]"
   ]
  }
 ],
 "metadata": {
  "kernelspec": {
   "display_name": "sync",
   "language": "python",
   "name": "python3"
  },
  "language_info": {
   "codemirror_mode": {
    "name": "ipython",
    "version": 3
   },
   "file_extension": ".py",
   "mimetype": "text/x-python",
   "name": "python",
   "nbconvert_exporter": "python",
   "pygments_lexer": "ipython3",
   "version": "3.13.0"
  }
 },
 "nbformat": 4,
 "nbformat_minor": 5
}
