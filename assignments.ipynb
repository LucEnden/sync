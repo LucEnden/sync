{
 "cells": [
  {
   "cell_type": "markdown",
   "metadata": {},
   "source": [
    "# 1.1 A Critical Section\n",
    "\n",
    "There are two threads, with the code listed below. The programmer did their best to achieve mutual exclusion, fairness, and to avoid deadlock. However, mutual exclusion is not guaranteed. \n",
    "\n",
    "Answer the following questions:\n",
    "\n",
    "1. **How can both threads enter the Critical Section at the same time?**\n",
    "2. **Can deadlock occur? (why/why not?)**\n",
    "3. **Is this implementation fair (i.e. is it starvation-free)?**\n",
    "\n",
    "For all three questions, give a precise description of how it happens. Make a table where you write on each line the executed statement (like A1 or B7), together with the actual value of the variables (`flag[0]`, `flag[1]`, `lock[0]`, `lock[1]`) after execution of that statement.\n",
    "\n",
    "---\n",
    "## Thread A:\n",
    "\n",
    "```python\n",
    "flag = [False, False]\n",
    "lock = [False, False]\n",
    "\n",
    "while True:\n",
    "    flag[0] = True\n",
    "    lock[1] = False\n",
    "    if flag[1] == True:\n",
    "        lock[1] = True\n",
    "        flag[0] = False\n",
    "    \n",
    "    while lock[1] or flag[1]:\n",
    "        flag[0] = False\n",
    "        flag[0] = True\n",
    "    \n",
    "    # Critical Section\n",
    "    flag[0] = False\n",
    "    lock[0] = False\n",
    "```\n",
    "\n",
    "## Thread B:\n",
    "\n",
    "```python\n",
    "flag = [False, False]\n",
    "lock = [False, False]\n",
    "\n",
    "while True:\n",
    "    flag[1] = True\n",
    "    lock[0] = False\n",
    "    if flag[0] == True:\n",
    "        lock[0] = True\n",
    "        flag[1] = False\n",
    "    \n",
    "    while lock[0] or flag[0]:\n",
    "        flag[1] = False\n",
    "        flag[1] = True\n",
    "    \n",
    "    # Critical Section\n",
    "    flag[1] = False\n",
    "    lock[1] = False\n",
    "```"
   ]
  },
  {
   "cell_type": "markdown",
   "metadata": {
    "vscode": {
     "languageId": "plaintext"
    }
   },
   "source": [
    "Question 1:\n",
    "> How can both threads enter the Critical Section at the same time?\n",
    "\n",
    "It depends on the scheduling algorithm.\n",
    "\n",
    "TODO: visualize the execution of the code using a timeline given a specific scheduling algorithm.\n",
    "\n",
    "Question 2:\n",
    "> Can deadlock occur? (why/why not?)\n",
    "\n",
    "This again depends on the scheduling algorithm. Given the same scheduling algorithm as in the previous question, deadlock can occur.\n",
    "\n",
    "Question 3:\n",
    "> Is this implementation fair (i.e. is it starvation-free)?\n",
    "\n",
    "TODO: find an answer to this question."
   ]
  }
 ],
 "metadata": {
  "kernelspec": {
   "display_name": "sync",
   "language": "python",
   "name": "python3"
  },
  "language_info": {
   "name": "python",
   "version": "3.12.4"
  }
 },
 "nbformat": 4,
 "nbformat_minor": 2
}
